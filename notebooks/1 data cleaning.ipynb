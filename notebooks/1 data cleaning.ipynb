{
 "cells": [
  {
   "attachments": {},
   "cell_type": "markdown",
   "metadata": {},
   "source": [
    "## problem Stament -\n",
    "For a given customer's historical data, we are asked to predict whether a customer will stop using a company's product or not. We will be using the Telco Customer Churn dataset for building an end to end production-grade machine learning system that can predict whether the customer will stay loyal or not. The dataset has 20 input features and a target variable for 7043 customers.\n",
    "\n",
    "When someone leaves a company and when that customer stops paying a business for its services or products, we call that 'churn'. We can calculate a churn rate for a company by dividing the number of customers who churned by the total number of customers and then multiplying that number by 100 to reach a percentage value."
   ]
  },
  {
   "attachments": {},
   "cell_type": "markdown",
   "metadata": {},
   "source": [
    "## Data Cleaning.\n",
    "Data cleaning, also known as data cleansing or data scrubbing, refers to the process of identifying and correcting or removing errors, inconsistencies, inaccuracies, and anomalies in a dataset. It involves tasks such as handling missing values, correcting typos, resolving formatting issues, dealing with outliers, and eliminating duplicate or redundant entries.\n",
    "the importance of the data cleaning - \n",
    "+ Data Accuracy\n",
    "+ Reliable Insights\n",
    "+ Effective Decision-making\n",
    "+ Data Integration\n",
    "+ Regulatory Compliance\n",
    "+ Efficient Analysis\n",
    "+ Data Reusability\n"
   ]
  },
  {
   "cell_type": "code",
   "execution_count": 13,
   "metadata": {},
   "outputs": [],
   "source": [
    "#Importing the libraries\n",
    "import pandas as pd \n",
    "import numpy as np "
   ]
  },
  {
   "cell_type": "code",
   "execution_count": 14,
   "metadata": {},
   "outputs": [
    {
     "data": {
      "text/html": [
       "<div>\n",
       "<style scoped>\n",
       "    .dataframe tbody tr th:only-of-type {\n",
       "        vertical-align: middle;\n",
       "    }\n",
       "\n",
       "    .dataframe tbody tr th {\n",
       "        vertical-align: top;\n",
       "    }\n",
       "\n",
       "    .dataframe thead th {\n",
       "        text-align: right;\n",
       "    }\n",
       "</style>\n",
       "<table border=\"1\" class=\"dataframe\">\n",
       "  <thead>\n",
       "    <tr style=\"text-align: right;\">\n",
       "      <th></th>\n",
       "      <th>gender</th>\n",
       "      <th>SeniorCitizen</th>\n",
       "      <th>Partner</th>\n",
       "      <th>Dependents</th>\n",
       "      <th>tenure</th>\n",
       "      <th>PhoneService</th>\n",
       "      <th>InternetService</th>\n",
       "      <th>OnlineSecurity</th>\n",
       "      <th>Contract</th>\n",
       "      <th>PaymentMethod</th>\n",
       "      <th>MonthlyCharges</th>\n",
       "      <th>TotalCharges</th>\n",
       "      <th>Churn</th>\n",
       "    </tr>\n",
       "  </thead>\n",
       "  <tbody>\n",
       "    <tr>\n",
       "      <th>0</th>\n",
       "      <td>Female</td>\n",
       "      <td>0</td>\n",
       "      <td>Yes</td>\n",
       "      <td>No</td>\n",
       "      <td>1</td>\n",
       "      <td>No</td>\n",
       "      <td>DSL</td>\n",
       "      <td>No</td>\n",
       "      <td>Month-to-month</td>\n",
       "      <td>Electronic check</td>\n",
       "      <td>29.85</td>\n",
       "      <td>29.85</td>\n",
       "      <td>No</td>\n",
       "    </tr>\n",
       "    <tr>\n",
       "      <th>1</th>\n",
       "      <td>Male</td>\n",
       "      <td>0</td>\n",
       "      <td>No</td>\n",
       "      <td>No</td>\n",
       "      <td>34</td>\n",
       "      <td>Yes</td>\n",
       "      <td>DSL</td>\n",
       "      <td>Yes</td>\n",
       "      <td>One year</td>\n",
       "      <td>Mailed check</td>\n",
       "      <td>56.95</td>\n",
       "      <td>1889.5</td>\n",
       "      <td>No</td>\n",
       "    </tr>\n",
       "    <tr>\n",
       "      <th>2</th>\n",
       "      <td>Male</td>\n",
       "      <td>0</td>\n",
       "      <td>No</td>\n",
       "      <td>No</td>\n",
       "      <td>2</td>\n",
       "      <td>Yes</td>\n",
       "      <td>DSL</td>\n",
       "      <td>Yes</td>\n",
       "      <td>Month-to-month</td>\n",
       "      <td>Mailed check</td>\n",
       "      <td>53.85</td>\n",
       "      <td>108.15</td>\n",
       "      <td>Yes</td>\n",
       "    </tr>\n",
       "    <tr>\n",
       "      <th>3</th>\n",
       "      <td>Male</td>\n",
       "      <td>0</td>\n",
       "      <td>No</td>\n",
       "      <td>No</td>\n",
       "      <td>45</td>\n",
       "      <td>No</td>\n",
       "      <td>DSL</td>\n",
       "      <td>Yes</td>\n",
       "      <td>One year</td>\n",
       "      <td>Bank transfer (automatic)</td>\n",
       "      <td>42.30</td>\n",
       "      <td>1840.75</td>\n",
       "      <td>No</td>\n",
       "    </tr>\n",
       "    <tr>\n",
       "      <th>4</th>\n",
       "      <td>Female</td>\n",
       "      <td>0</td>\n",
       "      <td>No</td>\n",
       "      <td>No</td>\n",
       "      <td>2</td>\n",
       "      <td>Yes</td>\n",
       "      <td>Fiber optic</td>\n",
       "      <td>No</td>\n",
       "      <td>Month-to-month</td>\n",
       "      <td>Electronic check</td>\n",
       "      <td>70.70</td>\n",
       "      <td>151.65</td>\n",
       "      <td>Yes</td>\n",
       "    </tr>\n",
       "  </tbody>\n",
       "</table>\n",
       "</div>"
      ],
      "text/plain": [
       "   gender  SeniorCitizen Partner Dependents  tenure PhoneService   \n",
       "0  Female              0     Yes         No       1           No  \\\n",
       "1    Male              0      No         No      34          Yes   \n",
       "2    Male              0      No         No       2          Yes   \n",
       "3    Male              0      No         No      45           No   \n",
       "4  Female              0      No         No       2          Yes   \n",
       "\n",
       "  InternetService OnlineSecurity        Contract              PaymentMethod   \n",
       "0             DSL             No  Month-to-month           Electronic check  \\\n",
       "1             DSL            Yes        One year               Mailed check   \n",
       "2             DSL            Yes  Month-to-month               Mailed check   \n",
       "3             DSL            Yes        One year  Bank transfer (automatic)   \n",
       "4     Fiber optic             No  Month-to-month           Electronic check   \n",
       "\n",
       "   MonthlyCharges TotalCharges Churn  \n",
       "0           29.85        29.85    No  \n",
       "1           56.95       1889.5    No  \n",
       "2           53.85       108.15   Yes  \n",
       "3           42.30      1840.75    No  \n",
       "4           70.70       151.65   Yes  "
      ]
     },
     "execution_count": 14,
     "metadata": {},
     "output_type": "execute_result"
    }
   ],
   "source": [
    "# Loading the data\n",
    "data = pd.read_csv('/Users/tarakram/Documents/Customer-Churn/data/raw/customer_churn_raw_data.csv')\n",
    "# pd.set_option('display.max_columns', None)\n",
    "data.head()"
   ]
  },
  {
   "attachments": {},
   "cell_type": "markdown",
   "metadata": {},
   "source": [
    "## Data Description\n",
    "+ customerID: A unique identifier assigned to each customer.\n",
    "+ gender: The gender of the customer (male or female).\n",
    "+ SeniorCitizen: A binary variable indicating whether the customer is a senior citizen or not (1 for senior citizen and 0 for non-senior citizen).\n",
    "+ Partner: A binary variable indicating whether the customer has a partner or not (1 for yes and 0 for no).\n",
    "+ Dependents: A binary variable indicating whether the customer has dependents or not (1 for yes and 0 for no).\n",
    "+ tenure: The number of months the customer has been with the telecom company.\n",
    "+ PhoneService: A binary variable indicating whether the customer has a phone service or not (1 for yes and 0 for no).\n",
    "+ MultipleLines: A binary variable indicating whether the customer has multiple phone lines or not (1 for yes and 0 for no).\n",
    "+ InternetService: The type of internet service the customer has subscribed to (DSL, Fiber optic, or No).\n",
    "+ OnlineSecurity: A binary variable indicating whether the customer has online security or not (1 for yes and 0 for no).\n",
    "+ OnlineBackup: A binary variable indicating whether the customer has online backup or not (1 for yes and 0 for no).\n",
    "+ DeviceProtection: A binary variable indicating whether the customer has device protection or not (1 for yes and 0 for no).\n",
    "+ TechSupport: A binary variable indicating whether the customer has technical support or not (1 for yes and 0 for no).\n",
    "+ StreamingTV: A binary variable indicating whether the customer has streaming TV or not (1 for yes and 0 for no).\n",
    "+ StreamingMovies: A binary variable indicating whether the customer has streaming movies or not (1 for yes and 0 for no).\n",
    "+ Contract: The type of contract the customer has subscribed to (Month-to-month, One year, or Two year).\n",
    "+ PaperlessBilling: A binary variable indicating whether the customer has opted for paperless billing or not (1 for yes and 0 for no).\n",
    "+ PaymentMethod: The payment method used by the customer (Electronic check, Mailed check, Bank transfer (automatic), or Credit card (automatic)).\n",
    "+ MonthlyCharges: The amount charged to the customer on a monthly basis.\n",
    "+ TotalCharges: The total amount charged to the customer over the entire tenure period.\n",
    "+ Churn: A binary variable indicating whether the customer has churned or not (1 for churned and 0 for retained).\n"
   ]
  },
  {
   "cell_type": "code",
   "execution_count": 15,
   "metadata": {},
   "outputs": [
    {
     "name": "stdout",
     "output_type": "stream",
     "text": [
      "Our Data has 7043 rows, and 13 Columns.\n"
     ]
    }
   ],
   "source": [
    "# shape of the data\n",
    "print(f'Our Data has {data.shape[0]} rows, and {data.shape[1]} Columns.')"
   ]
  },
  {
   "cell_type": "code",
   "execution_count": 16,
   "metadata": {},
   "outputs": [
    {
     "data": {
      "text/plain": [
       "gender             0\n",
       "SeniorCitizen      0\n",
       "Partner            0\n",
       "Dependents         0\n",
       "tenure             0\n",
       "PhoneService       0\n",
       "InternetService    0\n",
       "OnlineSecurity     0\n",
       "Contract           0\n",
       "PaymentMethod      0\n",
       "MonthlyCharges     0\n",
       "TotalCharges       0\n",
       "Churn              0\n",
       "dtype: int64"
      ]
     },
     "execution_count": 16,
     "metadata": {},
     "output_type": "execute_result"
    }
   ],
   "source": [
    "# checking for null values \n",
    "data.isnull().sum()"
   ]
  },
  {
   "cell_type": "code",
   "execution_count": 17,
   "metadata": {},
   "outputs": [
    {
     "data": {
      "text/plain": [
       "34"
      ]
     },
     "execution_count": 17,
     "metadata": {},
     "output_type": "execute_result"
    }
   ],
   "source": [
    "# checking for duplicated values.\n",
    "data.duplicated().sum()"
   ]
  },
  {
   "cell_type": "code",
   "execution_count": 18,
   "metadata": {},
   "outputs": [],
   "source": [
    "data.drop_duplicates(inplace=True)"
   ]
  },
  {
   "cell_type": "code",
   "execution_count": 19,
   "metadata": {},
   "outputs": [
    {
     "data": {
      "text/plain": [
       "gender                2\n",
       "SeniorCitizen         2\n",
       "Partner               2\n",
       "Dependents            2\n",
       "tenure               73\n",
       "PhoneService          2\n",
       "InternetService       3\n",
       "OnlineSecurity        3\n",
       "Contract              3\n",
       "PaymentMethod         4\n",
       "MonthlyCharges     1585\n",
       "TotalCharges       6531\n",
       "Churn                 2\n",
       "dtype: int64"
      ]
     },
     "execution_count": 19,
     "metadata": {},
     "output_type": "execute_result"
    }
   ],
   "source": [
    "# checking for unique values that are present in our data.\n",
    "data.nunique()"
   ]
  },
  {
   "cell_type": "code",
   "execution_count": 20,
   "metadata": {},
   "outputs": [
    {
     "data": {
      "text/plain": [
       "gender              object\n",
       "SeniorCitizen        int64\n",
       "Partner             object\n",
       "Dependents          object\n",
       "tenure               int64\n",
       "PhoneService        object\n",
       "InternetService     object\n",
       "OnlineSecurity      object\n",
       "Contract            object\n",
       "PaymentMethod       object\n",
       "MonthlyCharges     float64\n",
       "TotalCharges        object\n",
       "Churn               object\n",
       "dtype: object"
      ]
     },
     "execution_count": 20,
     "metadata": {},
     "output_type": "execute_result"
    }
   ],
   "source": [
    "data.dtypes"
   ]
  },
  {
   "attachments": {},
   "cell_type": "markdown",
   "metadata": {},
   "source": [
    "Most of the data is in Objects, and Machines only understand numbers, so are going to change them into int in preprocessing module."
   ]
  },
  {
   "cell_type": "code",
   "execution_count": 21,
   "metadata": {},
   "outputs": [],
   "source": [
    "# Saving the data into processed folder.\n",
    "data.to_csv('/Users/tarakram/Documents/Customer-Churn/data/processed/cleaned_data.csv', index= False)"
   ]
  },
  {
   "cell_type": "code",
   "execution_count": null,
   "metadata": {},
   "outputs": [],
   "source": []
  }
 ],
 "metadata": {
  "kernelspec": {
   "display_name": "Python 3",
   "language": "python",
   "name": "python3"
  },
  "language_info": {
   "codemirror_mode": {
    "name": "ipython",
    "version": 3
   },
   "file_extension": ".py",
   "mimetype": "text/x-python",
   "name": "python",
   "nbconvert_exporter": "python",
   "pygments_lexer": "ipython3",
   "version": "3.9.6"
  },
  "orig_nbformat": 4
 },
 "nbformat": 4,
 "nbformat_minor": 2
}
